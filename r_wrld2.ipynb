{
 "cells": [
  {
   "cell_type": "code",
   "execution_count": 5,
   "id": "22592657-760b-49e5-8e01-dcfefeea0cf2",
   "metadata": {},
   "outputs": [
    {
     "name": "stdin",
     "output_type": "stream",
     "text": [
      "Enter your Age 18\n"
     ]
    },
    {
     "name": "stdout",
     "output_type": "stream",
     "text": [
      "You are eligible for voting and driving\n"
     ]
    }
   ],
   "source": [
    "#Real World Voting Age Checker\n",
    "age =  int(input(\"Enter your Age\"))\n",
    "if(age>=18):\n",
    "    print(\"You are eligible for voting and driving\")\n",
    "else:\n",
    "    print(\"You are not eligible for voting and driving\")"
   ]
  },
  {
   "cell_type": "code",
   "execution_count": 15,
   "id": "f1d948dd-4925-453d-8731-cbca75bf36b5",
   "metadata": {},
   "outputs": [
    {
     "name": "stdin",
     "output_type": "stream",
     "text": [
      "Enter base ticket fare:  20.0\n",
      "Enter your age:  19\n"
     ]
    },
    {
     "name": "stdout",
     "output_type": "stream",
     "text": [
      "Discounted fare: 20.0\n"
     ]
    }
   ],
   "source": [
    "#Real World Bus Ticket Fare Calculator\n",
    "fare = float(input(\"Enter base ticket fare: \"))\n",
    "age = int(input(\"Enter your age: \"))\n",
    "\n",
    "if age <= 10:\n",
    "    off = 0.90   \n",
    "elif age >= 60:\n",
    "    off = 0.80   \n",
    "else:\n",
    "    off = 0.00   \n",
    "\n",
    "total = fare * (1 - off)\n",
    "print(\"Discounted fare:\", total)\n"
   ]
  },
  {
   "cell_type": "code",
   "execution_count": 18,
   "id": "52a817f1-6aa8-4514-9888-67282661cf82",
   "metadata": {},
   "outputs": [
    {
     "name": "stdin",
     "output_type": "stream",
     "text": [
      "Enter electricity units consumed:  2346.50\n"
     ]
    },
    {
     "name": "stdout",
     "output_type": "stream",
     "text": [
      "Final total electricity bill:  11732.5\n"
     ]
    }
   ],
   "source": [
    "#Real World Electricity Bill Generator\n",
    "units = float(input(\"Enter electricity units consumed: \"))\n",
    "\n",
    "if units <= 100:\n",
    "    rate = 1.5\n",
    "elif units <= 200:\n",
    "    rate = 2.5\n",
    "elif units <= 300:\n",
    "    rate = 4\n",
    "else:\n",
    "    rate = 5\n",
    "\n",
    "total = units * rate\n",
    "print(\"Final total electricity bill: \",total)"
   ]
  },
  {
   "cell_type": "code",
   "execution_count": 20,
   "id": "1ac1a508-cb8d-4b2b-91cd-c3701c7e7f58",
   "metadata": {},
   "outputs": [
    {
     "name": "stdin",
     "output_type": "stream",
     "text": [
      "Enter no. of due days:  30\n"
     ]
    },
    {
     "name": "stdout",
     "output_type": "stream",
     "text": [
      "Fine Amount:  235\n"
     ]
    }
   ],
   "source": [
    "#Real World Library Fine Calculator\n",
    "d = int(input(\"Enter no. of due days: \"))\n",
    "if d <= 5:\n",
    "    fine = d * 2\n",
    "elif d <= 10:\n",
    "    fine = 5*2 + (d - 5) * 5\n",
    "else:\n",
    "    fine = 5*2 + 5*5 + (d - 10) * 10\n",
    "print(\"Fine Amount: \",fine)"
   ]
  },
  {
   "cell_type": "code",
   "execution_count": 22,
   "id": "312bfce5-fca7-4fdc-8b94-82adbfd3f1e8",
   "metadata": {},
   "outputs": [
    {
     "name": "stdin",
     "output_type": "stream",
     "text": [
      "Enter username:  Unknown\n",
      "Enter password:  1234\n"
     ]
    },
    {
     "name": "stdout",
     "output_type": "stream",
     "text": [
      "Login successful!\n"
     ]
    }
   ],
   "source": [
    "#Real World User Login System\n",
    "user_name = \"Unknown\"\n",
    "password = \"1234\"\n",
    "attempts = 3\n",
    "while attempts > 0:\n",
    "    user = input(\"Enter username: \")\n",
    "    pwd = input(\"Enter password: \")\n",
    "\n",
    "    if user == user_name and pwd == password:\n",
    "        print(\"Login successful!\")\n",
    "        break\n",
    "    else:\n",
    "        attempts -= 1\n",
    "        print(\"Incorrect credentials! Attempts left: \",attempts)\n",
    "if attempts == 0:\n",
    "    print(\"Account locked due to too many failed attempts.\")"
   ]
  },
  {
   "cell_type": "code",
   "execution_count": null,
   "id": "f8d7522d-8fe4-4611-8c06-d8b83c11ebac",
   "metadata": {},
   "outputs": [],
   "source": []
  }
 ],
 "metadata": {
  "kernelspec": {
   "display_name": "Python 3 (ipykernel)",
   "language": "python",
   "name": "python3"
  },
  "language_info": {
   "codemirror_mode": {
    "name": "ipython",
    "version": 3
   },
   "file_extension": ".py",
   "mimetype": "text/x-python",
   "name": "python",
   "nbconvert_exporter": "python",
   "pygments_lexer": "ipython3",
   "version": "3.13.5"
  }
 },
 "nbformat": 4,
 "nbformat_minor": 5
}
