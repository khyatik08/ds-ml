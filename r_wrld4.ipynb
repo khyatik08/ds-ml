{
 "cells": [
  {
   "cell_type": "code",
   "execution_count": 1,
   "id": "7651502b-019d-4c4c-95d8-26d3be713650",
   "metadata": {},
   "outputs": [
    {
     "ename": "ModuleNotFoundError",
     "evalue": "No module named 'numpy'",
     "output_type": "error",
     "traceback": [
      "\u001b[31m---------------------------------------------------------------------------\u001b[39m",
      "\u001b[31mModuleNotFoundError\u001b[39m                       Traceback (most recent call last)",
      "\u001b[36mCell\u001b[39m\u001b[36m \u001b[39m\u001b[32mIn[1]\u001b[39m\u001b[32m, line 2\u001b[39m\n\u001b[32m      1\u001b[39m \u001b[38;5;66;03m#Real World Expense Tracker using NumPy\u001b[39;00m\n\u001b[32m----> \u001b[39m\u001b[32m2\u001b[39m \u001b[38;5;28;01mimport\u001b[39;00m\u001b[38;5;250m \u001b[39m\u001b[34;01mnumpy\u001b[39;00m\u001b[38;5;250m \u001b[39m\u001b[38;5;28;01mas\u001b[39;00m\u001b[38;5;250m \u001b[39m\u001b[34;01mnp\u001b[39;00m\n\u001b[32m      3\u001b[39m categories = [\u001b[33m'\u001b[39m\u001b[33mhealth\u001b[39m\u001b[33m'\u001b[39m, \u001b[33m'\u001b[39m\u001b[33mtransport\u001b[39m\u001b[33m'\u001b[39m, \u001b[33m'\u001b[39m\u001b[33mgroceries\u001b[39m\u001b[33m'\u001b[39m]\n\u001b[32m      4\u001b[39m expenses = np.array([\n\u001b[32m      5\u001b[39m     [\u001b[32m2500\u001b[39m, \u001b[32m3000\u001b[39m, \u001b[32m2000\u001b[39m],  \n\u001b[32m      6\u001b[39m     [\u001b[32m2500\u001b[39m, \u001b[32m2800\u001b[39m, \u001b[32m2200\u001b[39m],  \n\u001b[32m      7\u001b[39m     [\u001b[32m2700\u001b[39m, \u001b[32m2600\u001b[39m, \u001b[32m2000\u001b[39m]  \n\u001b[32m      8\u001b[39m ])\n",
      "\u001b[31mModuleNotFoundError\u001b[39m: No module named 'numpy'"
     ]
    }
   ],
   "source": [
    "#Real World Expense Tracker using NumPy\n",
    "import NumPy as np\n",
    "categories = ['health', 'transport', 'groceries']\n",
    "expenses = np.array([\n",
    "    [2500, 3000, 2000],  \n",
    "    [2500, 2800, 2200],  \n",
    "    [2700, 2600, 2000]  \n",
    "])\n",
    "\n",
    "print(\"Expenses Array:\")\n",
    "print(expenses)\n",
    "\n",
    "total_per_category = expenses.sum(axis=1)\n",
    "print(\"\\nTotal per Category:\")\n",
    "for i, category in enumerate(categories):\n",
    "    print(f\"{category}: {total_per_category[i]}\")\n",
    "    \n",
    "total_expenses = total_per_category.sum()\n",
    "print(f\"\\nOverall Total Expenses: {total_expenses}\")\n",
    "\n",
    "average_monthly_expense = expenses.mean()\n",
    "print(f\"Average Monthly Expense: {average_monthly_expense:}\")"
   ]
  },
  {
   "cell_type": "code",
   "execution_count": null,
   "id": "159c0696-db9f-4c5d-bd0b-655454c1cb26",
   "metadata": {},
   "outputs": [],
   "source": []
  }
 ],
 "metadata": {
  "kernelspec": {
   "display_name": "Python 3 (ipykernel)",
   "language": "python",
   "name": "python3"
  },
  "language_info": {
   "codemirror_mode": {
    "name": "ipython",
    "version": 3
   },
   "file_extension": ".py",
   "mimetype": "text/x-python",
   "name": "python",
   "nbconvert_exporter": "python",
   "pygments_lexer": "ipython3",
   "version": "3.13.5"
  }
 },
 "nbformat": 4,
 "nbformat_minor": 5
}
