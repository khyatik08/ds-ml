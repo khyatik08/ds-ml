{
 "cells": [
  {
   "cell_type": "markdown",
   "id": "fcaf689a-bc58-41ff-917c-9f76ee2d623b",
   "metadata": {},
   "source": [
    "### Real world calculator \n",
    "num1 = int(input(\"Enter First Number:\"))\n",
    "num2 = int(input(\"Enter Second Number:\"))\n",
    "print(\"Enter your task to perform\\n \\t\\t\\t\\t\\t1)Addition\\n \\t\\t\\t\\t\\t2)Subtraction\\n \\t\\t\\t\\t\\t3)Multiplication\\n \\t\\t\\t\\t\\t4)Division :\")\n",
    "choice = int(input(\"Enter your choice: \"))\n",
    "if  choice==1: \n",
    "    print(num1,'+',num2,\"=\",num1 + num2)\n",
    "elif choice==2:\n",
    "    print(num1,'-',num2,\"=\",num1 - num2)\n",
    "elif choice==3:\n",
    "    print(num1,'*',num2,\"=\",num1 * num2)\n",
    "elif choice==4:\n",
    "    if num2 != 0: \n",
    "         print(num1,'/',num2,\"=\",num1 / num2)\n",
    "    else:\n",
    "         print(\"Denominator Can't Be 0\")     \n",
    "else:\n",
    "    print(\"wrong choice\")"
   ]
  },
  {
   "cell_type": "code",
   "execution_count": null,
   "id": "62623f00-7b05-4938-b687-78817ce744f7",
   "metadata": {},
   "outputs": [],
   "source": [
    "#Real World Grade Calculator\n",
    "grade=['E','D','C','B','A','O']\n",
    "mark_range=[0,55,65,75,85,95]\n",
    "mark_range = mark_range[-1::-1]\n",
    "grade = grade[-1::-1]\n",
    "n = int(input(\"Enter your marks: \"))\n",
    "for i in mark_range:\n",
    "    if n >= i :\n",
    "        print(\"Your Grade is : \",grade[mark_range.index(i)])\n",
    "        break\n",
    "    else:\n",
    "        continue"
   ]
  },
  {
   "cell_type": "code",
   "execution_count": null,
   "id": "3d47ce44-9d88-43a0-95f6-f468d46646a6",
   "metadata": {},
   "outputs": [],
   "source": []
  }
 ],
 "metadata": {
  "kernelspec": {
   "display_name": "Python 3 (ipykernel)",
   "language": "python",
   "name": "python3"
  },
  "language_info": {
   "codemirror_mode": {
    "name": "ipython",
    "version": 3
   },
   "file_extension": ".py",
   "mimetype": "text/x-python",
   "name": "python",
   "nbconvert_exporter": "python",
   "pygments_lexer": "ipython3",
   "version": "3.12.4"
  }
 },
 "nbformat": 4,
 "nbformat_minor": 5
}
