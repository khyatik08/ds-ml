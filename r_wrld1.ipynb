{
  "metadata": {
    "kernelspec": {
      "name": "python",
      "display_name": "Python (Pyodide)",
      "language": "python"
    },
    "language_info": {
      "codemirror_mode": {
        "name": "python",
        "version": 3
      },
      "file_extension": ".py",
      "mimetype": "text/x-python",
      "name": "python",
      "nbconvert_exporter": "python",
      "pygments_lexer": "ipython3",
      "version": "3.8"
    }
  },
  "nbformat_minor": 5,
  "nbformat": 4,
  "cells": [
    {
      "id": "62623f00-7b05-4938-b687-78817ce744f7",
      "cell_type": "code",
      "source": "#Real World Grade Calculator\ngrade=['E','D','C','B','A','O']\nmark_range=[0,55,65,75,85,95]\nmark_range = mark_range[-1::-1]\ngrade = grade[-1::-1]\nn = int(input(\"Enter your marks: \"))\nfor i in mark_range:\n    if n >= i :\n        print(\"Your Grade is : \",grade[mark_range.index(i)])\n        break\n    else:\n        continue",
      "metadata": {},
      "outputs": [],
      "execution_count": null
    },
    {
      "id": "3d47ce44-9d88-43a0-95f6-f468d46646a6",
      "cell_type": "code",
      "source": "num1 = int(input(\"Enter First Number:\")) \nnum2 = int(input(\"Enter Second Number:\")) \nprint(\"Enter your task to perform\\n \\t\\t\\t\\t\\t1)Addition\\n \\t\\t\\t\\t\\t2)Subtraction\\n \\t\\t\\t\\t\\t3)Multiplication\\n \\t\\t\\t\\t\\t4)Division :\") \nchoice = int(input(\"Enter your choice: \")) \nif choice==1: \n    print(num1,'+',num2,\"=\",num1 + num2)\nelif choice==2:\n    print(num1,'-',num2,\"=\",num1 - num2)\nelif choice==3:\n    print(num1,'*',num2,\"=\",num1 * num2) \nelif choice==4: \n    if num2 != 0: \n        print(num1,'/',num2,\"=\",num1 / num2) \n    else: \n        print(\"Denominator Can't Be 0\")\nelse: print(\"wrong choice\")\n\n",
      "metadata": {
        "trusted": true
      },
      "outputs": [
        {
          "output_type": "stream",
          "name": "stdin",
          "text": "Enter First Number: 4\nEnter Second Number: 5\n"
        },
        {
          "name": "stdout",
          "output_type": "stream",
          "text": "Enter your task to perform\n \t\t\t\t\t1)Addition\n \t\t\t\t\t2)Subtraction\n \t\t\t\t\t3)Multiplication\n \t\t\t\t\t4)Division :\n"
        },
        {
          "output_type": "stream",
          "name": "stdin",
          "text": "Enter your choice:  3\n"
        },
        {
          "name": "stdout",
          "output_type": "stream",
          "text": "4 * 5 = 20\n"
        }
      ],
      "execution_count": 2
    },
    {
      "id": "6617f58e-19b8-4358-906f-ce069c3ead3f",
      "cell_type": "code",
      "source": "",
      "metadata": {
        "trusted": true
      },
      "outputs": [],
      "execution_count": null
    }
  ]
}