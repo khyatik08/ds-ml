{
 "cells": [
  {
   "cell_type": "code",
   "execution_count": 9,
   "id": "037a338d-c5a4-4302-ad48-4542d1b571f0",
   "metadata": {},
   "outputs": [
    {
     "name": "stdin",
     "output_type": "stream",
     "text": [
      "Enter Card:  card\n",
      "Enter Pin:  1234\n"
     ]
    },
    {
     "name": "stdout",
     "output_type": "stream",
     "text": [
      "\t\t\tWelcome to ATM\n"
     ]
    },
    {
     "name": "stdin",
     "output_type": "stream",
     "text": [
      "Enter the task to perform \n",
      "\t1. Withdraw\n",
      "\t2. Show Balance\n",
      "\t3. Exit\n",
      "\t 2\n"
     ]
    },
    {
     "name": "stdout",
     "output_type": "stream",
     "text": [
      "Your balance is: 10000.00\n"
     ]
    },
    {
     "name": "stdin",
     "output_type": "stream",
     "text": [
      "Enter the task to perform \n",
      "\t1. Withdraw\n",
      "\t2. Show Balance\n",
      "\t3. Exit\n",
      "\t 1\n",
      "Enter amount to withdraw:  1000\n"
     ]
    },
    {
     "name": "stdout",
     "output_type": "stream",
     "text": [
      "Your new balance is: 9000.00\n"
     ]
    },
    {
     "name": "stdin",
     "output_type": "stream",
     "text": [
      "Enter the task to perform \n",
      "\t1. Withdraw\n",
      "\t2. Show Balance\n",
      "\t3. Exit\n",
      "\t 3\n"
     ]
    },
    {
     "name": "stdout",
     "output_type": "stream",
     "text": [
      "Closing...\n"
     ]
    }
   ],
   "source": [
    "class Atm:\n",
    "    def __init__(self):\n",
    "        self.balance = 10000\n",
    "        print(\"\\t\\t\\tWelcome to ATM\")\n",
    "    def withdraw(self):\n",
    "        amount = int(input(\"Enter amount to withdraw: \"))\n",
    "        if amount <= self.balance:\n",
    "            self.balance -= amount\n",
    "            print(f\"Your new balance is: {self.balance:.2f}\")\n",
    "        else:\n",
    "            print(\"Insufficient balance\")\n",
    "\n",
    "    def display(self):\n",
    "        print(f\"Your balance is: {self.balance:.2f}\")\n",
    "        \n",
    "if input(\"Enter Card: \") == \"card\" and input(\"Enter Pin: \") == \"1234\":\n",
    "    atm = Atm()\n",
    "    while True:\n",
    "        choice = int(input(\"Enter the task to perform \\n\\t1. Withdraw\\n\\t2. Show Balance\\n\\t3. Exit\\n\\t\"))\n",
    "        match choice:\n",
    "            case 1:\n",
    "                atm.withdraw()\n",
    "            case 2:\n",
    "                atm.display()\n",
    "            case 3:\n",
    "                print(\"Closing...\")\n",
    "                break\n",
    "            case _:\n",
    "                print(\"Invalid Choice\")\n",
    "else:\n",
    "    print(\"Invalid Card or Pin\")\n"
   ]
  },
  {
   "cell_type": "code",
   "execution_count": null,
   "id": "48093f79-adce-4446-a0e0-32d0f3165407",
   "metadata": {},
   "outputs": [],
   "source": []
  }
 ],
 "metadata": {
  "kernelspec": {
   "display_name": "Python 3 (ipykernel)",
   "language": "python",
   "name": "python3"
  },
  "language_info": {
   "codemirror_mode": {
    "name": "ipython",
    "version": 3
   },
   "file_extension": ".py",
   "mimetype": "text/x-python",
   "name": "python",
   "nbconvert_exporter": "python",
   "pygments_lexer": "ipython3",
   "version": "3.13.5"
  }
 },
 "nbformat": 4,
 "nbformat_minor": 5
}
